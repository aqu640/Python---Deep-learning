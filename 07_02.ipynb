{
 "cells": [
  {
   "cell_type": "markdown",
   "metadata": {},
   "source": [
    "# 圖像相似度比較"
   ]
  },
  {
   "cell_type": "markdown",
   "metadata": {},
   "source": [
    "## 載入套件"
   ]
  },
  {
   "cell_type": "code",
   "execution_count": 1,
   "metadata": {},
   "outputs": [],
   "source": [
    "from tensorflow.keras.applications.vgg16 import VGG16\n",
    "from tensorflow.keras.preprocessing import image\n",
    "from tensorflow.keras.applications.vgg16 import preprocess_input\n",
    "import numpy as np"
   ]
  },
  {
   "cell_type": "markdown",
   "metadata": {},
   "source": [
    "## 載入VGG 16 模型"
   ]
  },
  {
   "cell_type": "code",
   "execution_count": 2,
   "metadata": {},
   "outputs": [
    {
     "name": "stdout",
     "output_type": "stream",
     "text": [
      "Model: \"vgg16\"\n",
      "_________________________________________________________________\n",
      "Layer (type)                 Output Shape              Param #   \n",
      "=================================================================\n",
      "input_1 (InputLayer)         [(None, None, None, 3)]   0         \n",
      "_________________________________________________________________\n",
      "block1_conv1 (Conv2D)        (None, None, None, 64)    1792      \n",
      "_________________________________________________________________\n",
      "block1_conv2 (Conv2D)        (None, None, None, 64)    36928     \n",
      "_________________________________________________________________\n",
      "block1_pool (MaxPooling2D)   (None, None, None, 64)    0         \n",
      "_________________________________________________________________\n",
      "block2_conv1 (Conv2D)        (None, None, None, 128)   73856     \n",
      "_________________________________________________________________\n",
      "block2_conv2 (Conv2D)        (None, None, None, 128)   147584    \n",
      "_________________________________________________________________\n",
      "block2_pool (MaxPooling2D)   (None, None, None, 128)   0         \n",
      "_________________________________________________________________\n",
      "block3_conv1 (Conv2D)        (None, None, None, 256)   295168    \n",
      "_________________________________________________________________\n",
      "block3_conv2 (Conv2D)        (None, None, None, 256)   590080    \n",
      "_________________________________________________________________\n",
      "block3_conv3 (Conv2D)        (None, None, None, 256)   590080    \n",
      "_________________________________________________________________\n",
      "block3_pool (MaxPooling2D)   (None, None, None, 256)   0         \n",
      "_________________________________________________________________\n",
      "block4_conv1 (Conv2D)        (None, None, None, 512)   1180160   \n",
      "_________________________________________________________________\n",
      "block4_conv2 (Conv2D)        (None, None, None, 512)   2359808   \n",
      "_________________________________________________________________\n",
      "block4_conv3 (Conv2D)        (None, None, None, 512)   2359808   \n",
      "_________________________________________________________________\n",
      "block4_pool (MaxPooling2D)   (None, None, None, 512)   0         \n",
      "_________________________________________________________________\n",
      "block5_conv1 (Conv2D)        (None, None, None, 512)   2359808   \n",
      "_________________________________________________________________\n",
      "block5_conv2 (Conv2D)        (None, None, None, 512)   2359808   \n",
      "_________________________________________________________________\n",
      "block5_conv3 (Conv2D)        (None, None, None, 512)   2359808   \n",
      "_________________________________________________________________\n",
      "block5_pool (MaxPooling2D)   (None, None, None, 512)   0         \n",
      "=================================================================\n",
      "Total params: 14,714,688\n",
      "Trainable params: 14,714,688\n",
      "Non-trainable params: 0\n",
      "_________________________________________________________________\n"
     ]
    }
   ],
   "source": [
    "# 載入VGG 16 模型, 不含最上面的三層(辨識層)\n",
    "model = VGG16(weights='imagenet', include_top=False)\n",
    "model.summary()"
   ]
  },
  {
   "cell_type": "code",
   "execution_count": 25,
   "metadata": {},
   "outputs": [
    {
     "name": "stdout",
     "output_type": "stream",
     "text": [
      "[[[ 0.         0.         0.        ...  0.         0.         0.       ]\n",
      "  [ 0.         0.        41.877056  ...  0.         0.         0.       ]\n",
      "  [ 1.0921738  0.        22.865002  ...  0.         0.         0.       ]\n",
      "  ...\n",
      "  [ 0.         0.         0.        ...  0.         0.         0.       ]\n",
      "  [ 0.         0.         0.        ...  0.         0.         0.       ]\n",
      "  [ 0.         0.         0.        ...  0.         0.         0.       ]]\n",
      "\n",
      " [[ 0.         0.        36.385143  ...  0.         0.         3.2606328]\n",
      "  [ 0.         0.        80.49929   ...  8.425463   0.         0.       ]\n",
      "  [ 0.         0.        48.48268   ...  0.         0.         0.       ]\n",
      "  ...\n",
      "  [ 0.         0.         0.        ...  4.342996   0.         0.       ]\n",
      "  [ 0.         0.         0.        ...  0.         0.         0.       ]\n",
      "  [ 0.         0.         0.        ...  0.         0.         0.       ]]\n",
      "\n",
      " [[ 0.         0.        10.000891  ...  0.         0.         2.2095368]\n",
      "  [ 0.         0.        25.236     ... 42.217083   0.        15.628273 ]\n",
      "  [ 0.         0.         0.        ... 25.98672    2.3296497  0.       ]\n",
      "  ...\n",
      "  [ 0.         0.         0.        ...  4.5011644  0.         0.       ]\n",
      "  [ 0.         0.         0.        ...  0.         0.         0.       ]\n",
      "  [ 0.         0.         0.        ...  0.         0.         0.       ]]\n",
      "\n",
      " ...\n",
      "\n",
      " [[ 0.         0.         0.        ...  0.         0.         0.       ]\n",
      "  [ 0.         0.         0.        ...  0.         0.         0.       ]\n",
      "  [ 0.         0.        12.25079   ...  0.         0.         0.       ]\n",
      "  ...\n",
      "  [ 0.         0.        22.41924   ...  0.         0.         0.       ]\n",
      "  [ 0.         0.         0.        ...  0.         0.         0.       ]\n",
      "  [ 0.         0.         0.        ...  0.         0.         0.       ]]\n",
      "\n",
      " [[ 0.         0.         0.        ...  0.         0.         0.       ]\n",
      "  [ 0.         0.         0.        ...  0.         0.         0.       ]\n",
      "  [ 0.         0.         0.        ...  0.         0.         0.       ]\n",
      "  ...\n",
      "  [ 0.         0.        10.478262  ...  0.         0.         0.       ]\n",
      "  [ 0.         0.         0.        ...  0.         0.         0.       ]\n",
      "  [ 0.         0.         0.        ...  0.         0.         0.       ]]\n",
      "\n",
      " [[ 0.         0.         0.        ...  0.         0.         0.       ]\n",
      "  [ 0.         0.         0.        ...  0.         0.         0.       ]\n",
      "  [ 0.         0.         0.5725725 ...  0.         0.         0.       ]\n",
      "  ...\n",
      "  [ 0.         0.         0.        ...  0.         0.         0.       ]\n",
      "  [ 0.         0.         0.        ...  0.         0.         0.       ]\n",
      "  [ 0.         0.         0.        ...  0.         0.         0.       ]]]\n"
     ]
    }
   ],
   "source": [
    "# 任選一張圖片，例如大象側面照，取得圖檔的特徵向量\n",
    "img_path = './images_test/elephant.jpg'\n",
    "\n",
    "# 載入圖檔，並縮放寬高為 (224, 224) \n",
    "img = image.load_img(img_path, target_size=(224, 224))\n",
    "\n",
    "# 加一維，變成 (1, 224, 224)\n",
    "x = image.img_to_array(img)\n",
    "x = np.expand_dims(x, axis=0)\n",
    "x = preprocess_input(x)\n",
    "\n",
    "# 取得圖檔的特徵向量\n",
    "features = model.predict(x)\n",
    "print(features[0])"
   ]
  },
  {
   "cell_type": "code",
   "execution_count": 5,
   "metadata": {},
   "outputs": [
    {
     "name": "stdout",
     "output_type": "stream",
     "text": [
      "(1, 7, 7, 512)\n"
     ]
    }
   ],
   "source": [
    "print(features.shape)"
   ]
  },
  {
   "cell_type": "markdown",
   "metadata": {},
   "source": [
    "# 使用 cosine_similarity 比較特徵向量"
   ]
  },
  {
   "cell_type": "markdown",
   "metadata": {},
   "source": [
    "### 步驟 1. 取得 images_test 目錄下所有 .jpg 檔案名稱"
   ]
  },
  {
   "cell_type": "code",
   "execution_count": 11,
   "metadata": {},
   "outputs": [
    {
     "data": {
      "text/plain": [
       "array(['bird.jpg', 'bird2.jpg', 'deer.jpg', 'elephant.jpg',\n",
       "       'elephant2.jpg', 'lion1.jpg', 'lion2.jpg', 'panda1.jpg',\n",
       "       'panda2.jpg', 'panda3.jpg', 'tiger1.jpg', 'tiger2.jpg',\n",
       "       'tiger3.jpg'], dtype='<U13')"
      ]
     },
     "execution_count": 11,
     "metadata": {},
     "output_type": "execute_result"
    }
   ],
   "source": [
    "from os import listdir\n",
    "from os.path import isfile, join\n",
    "\n",
    "# 取得 images_test 目錄下所有 .jpg 檔案名稱\n",
    "img_path = './images_test/'\n",
    "image_files = np.array([f for f in listdir(img_path) \n",
    "        if isfile(join(img_path, f)) and f[-3:] == 'jpg'])\n",
    "image_files"
   ]
  },
  {
   "cell_type": "markdown",
   "metadata": {},
   "source": [
    "### 步驟 2. 取得 images_test 目錄下所有 .jpg 檔案的像素"
   ]
  },
  {
   "cell_type": "code",
   "execution_count": null,
   "metadata": {},
   "outputs": [],
   "source": [
    "import numpy as np\n",
    "\n",
    "# 合併所有圖檔的像素\n",
    "X = np.array([])\n",
    "for f in image_files:\n",
    "    image_file = join(img_path, f)\n",
    "    # 載入圖檔，並縮放寬高為 (224, 224) \n",
    "    img = image.load_img(image_file, target_size=(224, 224))\n",
    "    img2 = image.img_to_array(img)\n",
    "    img2 = np.expand_dims(img2, axis=0)\n",
    "    if len(X.shape) == 1:\n",
    "        X = img2\n",
    "    else:\n",
    "        X = np.concatenate((X, img2), axis=0)\n",
    "\n",
    "X = preprocess_input(X)"
   ]
  },
  {
   "cell_type": "markdown",
   "metadata": {},
   "source": [
    "### 步驟 3. 取得所有圖檔的特徵向量"
   ]
  },
  {
   "cell_type": "code",
   "execution_count": 12,
   "metadata": {
    "scrolled": true
   },
   "outputs": [
    {
     "data": {
      "text/plain": [
       "((13, 7, 7, 512), (13, 224, 224, 3))"
      ]
     },
     "execution_count": 12,
     "metadata": {},
     "output_type": "execute_result"
    }
   ],
   "source": [
    "# 取得所有圖檔的特徵向量\n",
    "features = model.predict(X)\n",
    "\n",
    "features.shape, X.shape"
   ]
  },
  {
   "cell_type": "markdown",
   "metadata": {},
   "source": [
    "### 步驟 4. 使用 cosine_similarity 函數比較特徵向量"
   ]
  },
  {
   "cell_type": "code",
   "execution_count": 20,
   "metadata": {},
   "outputs": [
    {
     "name": "stdout",
     "output_type": "stream",
     "text": [
      "tiger2.jpg\n",
      "[0.35117537 0.26661643 0.19401284 0.19142228 0.1704499  0.14298241\n",
      " 0.10661671 0.10612212 0.09741708 0.09370482 0.08440351 0.08097083]\n"
     ]
    },
    {
     "data": {
      "text/plain": [
       "array(['tiger1.jpg', 'tiger3.jpg', 'lion1.jpg', 'elephant.jpg',\n",
       "       'elephant2.jpg', 'lion2.jpg', 'panda2.jpg', 'panda3.jpg',\n",
       "       'bird.jpg', 'panda1.jpg', 'bird2.jpg', 'deer.jpg'], dtype='<U13')"
      ]
     },
     "execution_count": 20,
     "metadata": {},
     "output_type": "execute_result"
    }
   ],
   "source": [
    "# 使用 cosine_similarity 比較特徵向量\n",
    "from sklearn.metrics.pairwise import cosine_similarity\n",
    "\n",
    "\n",
    "# 比較 Tiger2.jpg 與其他圖檔特徵向量\n",
    "no=-2\n",
    "print(image_files[no])\n",
    "\n",
    "# 轉為二維向量，類似扁平層(Flatten)\n",
    "features2 = features.reshape((features.shape[0], -1))\n",
    "\n",
    "# 排除 Tiger2.jpg 的其他圖檔特徵向量\n",
    "other_features = np.concatenate((features2[:no], features2[no+1:]))\n",
    "\n",
    "# 使用 cosine_similarity 計算 Cosine 函數\n",
    "similar_list = cosine_similarity(features2[no:no+1], other_features, \n",
    "                                 dense_output=False)\n",
    "\n",
    "# 顯示相似度，由大排到小\n",
    "print(np.sort(similar_list[0])[::-1])\n",
    "\n",
    "# 依相似度，由大排到小，顯示檔名\n",
    "image_files2 = np.delete(image_files, no)\n",
    "image_files2[np.argsort(similar_list[0])[::-1]]"
   ]
  },
  {
   "cell_type": "markdown",
   "metadata": {},
   "source": [
    "### 其他圖檔比較"
   ]
  },
  {
   "cell_type": "code",
   "execution_count": 24,
   "metadata": {},
   "outputs": [
    {
     "name": "stdout",
     "output_type": "stream",
     "text": [
      "bird.jpg\n",
      "[0.18207723 0.12460929 0.12223747 0.11801165 0.10910723 0.09741711\n",
      " 0.09481221 0.07908516 0.0680378  0.06436081 0.0626407  0.05851334]\n"
     ]
    },
    {
     "data": {
      "text/plain": [
       "array(['bird2.jpg', 'deer.jpg', 'panda3.jpg', 'lion2.jpg', 'panda1.jpg',\n",
       "       'tiger2.jpg', 'tiger1.jpg', 'elephant2.jpg', 'panda2.jpg',\n",
       "       'elephant.jpg', 'lion1.jpg', 'tiger3.jpg'], dtype='<U13')"
      ]
     },
     "execution_count": 24,
     "metadata": {},
     "output_type": "execute_result"
    }
   ],
   "source": [
    "# 比較對象：bird.jpg\n",
    "no=0\n",
    "print(image_files[no])\n",
    "\n",
    "\n",
    "# 使用 cosine_similarity 計算 Cosine 函數\n",
    "other_features = np.concatenate((features2[:no], features2[no+1:]))\n",
    "similar_list = cosine_similarity(features2[no:no+1], other_features, \n",
    "                                 dense_output=False)\n",
    "\n",
    "# 顯示相似度，由大排到小\n",
    "print(np.sort(similar_list[0])[::-1])\n",
    "\n",
    "# 依相似度，由大排到小，顯示檔名\n",
    "image_files2 = np.delete(image_files, no)\n",
    "image_files2[np.argsort(similar_list[0])[::-1]]"
   ]
  },
  {
   "cell_type": "code",
   "execution_count": null,
   "metadata": {},
   "outputs": [],
   "source": []
  }
 ],
 "metadata": {
  "kernelspec": {
   "display_name": "Python 3",
   "language": "python",
   "name": "python3"
  },
  "language_info": {
   "codemirror_mode": {
    "name": "ipython",
    "version": 3
   },
   "file_extension": ".py",
   "mimetype": "text/x-python",
   "name": "python",
   "nbconvert_exporter": "python",
   "pygments_lexer": "ipython3",
   "version": "3.8.3"
  }
 },
 "nbformat": 4,
 "nbformat_minor": 4
}
